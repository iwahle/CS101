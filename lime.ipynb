{
 "cells": [
  {
   "cell_type": "code",
   "execution_count": 5,
   "metadata": {},
   "outputs": [],
   "source": [
    "import numpy as np\n",
    "import matplotlib.pyplot as plt\n",
    "import seaborn as sns\n",
    "sns.set()\n",
    "import keras\n",
    "from keras.models import Sequential\n",
    "from keras.layers import Conv2D, Dense, Flatten, MaxPooling2D, Dropout\n",
    "from keras.losses import sparse_categorical_crossentropy\n",
    "from keras.optimizers import SGD\n",
    "import matplotlib.pyplot as plt\n",
    "from sklearn.model_selection import train_test_split\n",
    "import numpy as np"
   ]
  },
  {
   "cell_type": "markdown",
   "metadata": {},
   "source": [
    "load data"
   ]
  },
  {
   "cell_type": "code",
   "execution_count": 3,
   "metadata": {},
   "outputs": [
    {
     "name": "stdout",
     "output_type": "stream",
     "text": [
      "loading spin 000 90 incl images....\n",
      "loading spin 001 90 incl images....\n",
      "loading spin 002 90 incl images....\n",
      "loading spin 003 90 incl images....\n",
      "loading spin 004 90 incl images....\n",
      "loading spin 005 90 incl images....\n",
      "loading spin 006 90 incl images....\n",
      "loading spin 007 90 incl images....\n",
      "loading spin 008 90 incl images....\n",
      "loading spin 009 90 incl images....\n",
      "loading spin 010 90 incl images....\n",
      "loading spin 011 90 incl images....\n",
      "loading spin 012 90 incl images....\n",
      "loading spin 013 90 incl images....\n",
      "loading spin 014 90 incl images....\n",
      "loading spin 015 90 incl images....\n",
      "loading spin 016 90 incl images....\n",
      "loading spin 017 90 incl images....\n",
      "loading spin 018 90 incl images....\n",
      "loading spin 019 90 incl images....\n",
      "loading spin 020 90 incl images....\n",
      "loading spin 021 90 incl images....\n",
      "loading spin 022 90 incl images....\n",
      "loading spin 023 90 incl images....\n",
      "loading spin 024 90 incl images....\n",
      "loading spin 025 90 incl images....\n",
      "loading spin 026 90 incl images....\n",
      "loading spin 027 90 incl images....\n",
      "loading spin 028 90 incl images....\n",
      "loading spin 029 90 incl images....\n",
      "loading spin 030 90 incl images....\n",
      "loading spin 031 90 incl images....\n",
      "loading spin 032 90 incl images....\n",
      "loading spin 033 90 incl images....\n",
      "loading spin 034 90 incl images....\n",
      "loading spin 035 90 incl images....\n",
      "loading spin 036 90 incl images....\n",
      "loading spin 037 90 incl images....\n",
      "loading spin 038 90 incl images....\n",
      "loading spin 039 90 incl images....\n",
      "loading spin 040 90 incl images....\n",
      "loading spin 041 90 incl images....\n",
      "loading spin 042 90 incl images....\n",
      "loading spin 043 90 incl images....\n",
      "loading spin 044 90 incl images....\n",
      "loading spin 045 90 incl images....\n",
      "loading spin 046 90 incl images....\n",
      "loading spin 047 90 incl images....\n",
      "loading spin 048 90 incl images....\n",
      "loading spin 049 90 incl images....\n",
      "loading spin 050 90 incl images....\n",
      "loading spin 051 90 incl images....\n",
      "loading spin 052 90 incl images....\n",
      "loading spin 053 90 incl images....\n",
      "loading spin 054 90 incl images....\n",
      "pmap_bs_054_029_2.png image not exist.\n",
      "loading spin 055 90 incl images....\n",
      "loading spin 056 90 incl images....\n",
      "loading spin 057 90 incl images....\n",
      "loading spin 058 90 incl images....\n",
      "loading spin 059 90 incl images....\n",
      "loading spin 060 90 incl images....\n",
      "loading spin 061 90 incl images....\n",
      "loading spin 062 90 incl images....\n",
      "loading spin 063 90 incl images....\n",
      "loading spin 064 90 incl images....\n",
      "loading spin 065 90 incl images....\n",
      "loading spin 066 90 incl images....\n",
      "loading spin 067 90 incl images....\n",
      "loading spin 068 90 incl images....\n",
      "loading spin 069 90 incl images....\n",
      "loading spin 070 90 incl images....\n",
      "loading spin 071 90 incl images....\n",
      "loading spin 072 90 incl images....\n",
      "loading spin 073 90 incl images....\n",
      "loading spin 074 90 incl images....\n",
      "loading spin 075 90 incl images....\n",
      "loading spin 076 90 incl images....\n",
      "loading spin 077 90 incl images....\n",
      "loading spin 078 90 incl images....\n",
      "loading spin 079 90 incl images....\n",
      "loading spin 080 90 incl images....\n",
      "loading spin 081 90 incl images....\n",
      "loading spin 082 90 incl images....\n",
      "loading spin 083 90 incl images....\n",
      "loading spin 084 90 incl images....\n",
      "loading spin 085 90 incl images....\n",
      "loading spin 086 90 incl images....\n",
      "loading spin 087 90 incl images....\n",
      "loading spin 088 90 incl images....\n",
      "loading spin 089 90 incl images....\n",
      "loading spin 090 90 incl images....\n",
      "loading spin 091 90 incl images....\n",
      "loading spin 092 90 incl images....\n",
      "loading spin 093 90 incl images....\n",
      "loading spin 094 90 incl images....\n",
      "loading spin 095 90 incl images....\n",
      "loading spin 096 90 incl images....\n",
      "loading spin 097 90 incl images....\n",
      "loading spin 098 90 incl images....\n",
      "loading spin 099 90 incl images....\n",
      "loading spin 100 90 incl images....\n",
      "pmap_bs_100_046_2.png image not exist.\n"
     ]
    }
   ],
   "source": [
    "from load_data import *\n",
    "\n",
    "X_data, y_data = load_data()"
   ]
  },
  {
   "cell_type": "markdown",
   "metadata": {},
   "source": [
    "kmeans clustering"
   ]
  },
  {
   "cell_type": "code",
   "execution_count": 12,
   "metadata": {},
   "outputs": [],
   "source": [
    "# Load the model\n",
    "yaml_file = open('kmeans_cnn_incl_spin_20.yaml', 'r')\n",
    "loaded_model_yaml = yaml_file.read()\n",
    "yaml_file.close()\n",
    "loaded_model = keras.models.model_from_yaml(loaded_model_yaml)\n",
    "# load weights into new model\n",
    "loaded_model.load_weights(\"kmeans_cnn_incl_spin_weights_20.h5\")"
   ]
  },
  {
   "cell_type": "code",
   "execution_count": 14,
   "metadata": {},
   "outputs": [],
   "source": [
    "#make prediction using loaded model\n",
    "X = np.zeros((X_data.shape[0], X_data.shape[1], X_data.shape[2], 1))\n",
    "X[:,:,:,0] = X_data\n",
    "ypred = loaded_model.predict_classes(X)"
   ]
  },
  {
   "cell_type": "code",
   "execution_count": 15,
   "metadata": {},
   "outputs": [],
   "source": [
    "%load_ext autoreload\n",
    "%autoreload 2\n",
    "import os,sys\n",
    "try:\n",
    "    import lime\n",
    "except:\n",
    "    sys.path.append(os.path.join('..', '..')) # add the current directory\n",
    "    import lime\n",
    "from lime import lime_image"
   ]
  },
  {
   "cell_type": "code",
   "execution_count": 16,
   "metadata": {},
   "outputs": [],
   "source": [
    "explainer = lime_image.LimeImageExplainer()"
   ]
  },
  {
   "cell_type": "code",
   "execution_count": null,
   "metadata": {},
   "outputs": [],
   "source": [
    "%%time\n",
    "# Hide color is the color for a superpixel turned OFF. Alternatively, if it is NONE, the superpixel will be replaced by the average of its pixels\n",
    "# x = np.append(X[0], X[0], axis=2)\n",
    "# x = np.append(x, X[0], axis=2)\n",
    "# np.shape(x)\n",
    "explanation = explainer.explain_instance(X[0], loaded_model.predict_classes, top_labels=5, hide_color=0, num_samples=1000)"
   ]
  },
  {
   "cell_type": "code",
   "execution_count": 18,
   "metadata": {},
   "outputs": [],
   "source": [
    "import skimage"
   ]
  },
  {
   "cell_type": "code",
   "execution_count": null,
   "metadata": {},
   "outputs": [],
   "source": []
  }
 ],
 "metadata": {
  "kernelspec": {
   "display_name": "Python 3",
   "language": "python",
   "name": "python3"
  },
  "language_info": {
   "codemirror_mode": {
    "name": "ipython",
    "version": 3
   },
   "file_extension": ".py",
   "mimetype": "text/x-python",
   "name": "python",
   "nbconvert_exporter": "python",
   "pygments_lexer": "ipython3",
   "version": "3.7.3"
  }
 },
 "nbformat": 4,
 "nbformat_minor": 2
}
