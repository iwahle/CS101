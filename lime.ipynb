{
 "cells": [
  {
   "cell_type": "code",
   "execution_count": 2,
   "metadata": {},
   "outputs": [
    {
     "name": "stderr",
     "output_type": "stream",
     "text": [
      "Using TensorFlow backend.\n"
     ]
    }
   ],
   "source": [
    "import numpy as np\n",
    "import matplotlib.pyplot as plt\n",
    "import seaborn as sns\n",
    "sns.set()\n",
    "import keras\n",
    "from keras.models import Sequential\n",
    "from keras.layers import Conv2D, Dense, Flatten, MaxPooling2D, Dropout\n",
    "from keras.losses import sparse_categorical_crossentropy\n",
    "from keras.optimizers import SGD\n",
    "import matplotlib.pyplot as plt\n",
    "from sklearn.model_selection import train_test_split\n",
    "import numpy as np"
   ]
  },
  {
   "cell_type": "markdown",
   "metadata": {},
   "source": [
    "load data"
   ]
  },
  {
   "cell_type": "code",
   "execution_count": null,
   "metadata": {},
   "outputs": [
    {
     "name": "stdout",
     "output_type": "stream",
     "text": [
      "loading spin 000 90 incl images....\n",
      "loading spin 001 90 incl images....\n",
      "loading spin 002 90 incl images....\n",
      "loading spin 003 90 incl images....\n",
      "loading spin 004 90 incl images....\n",
      "loading spin 005 90 incl images....\n",
      "loading spin 006 90 incl images....\n",
      "loading spin 007 90 incl images....\n",
      "loading spin 008 90 incl images....\n",
      "loading spin 009 90 incl images....\n",
      "loading spin 010 90 incl images....\n",
      "loading spin 011 90 incl images....\n",
      "loading spin 012 90 incl images....\n",
      "loading spin 013 90 incl images....\n",
      "loading spin 014 90 incl images....\n",
      "loading spin 015 90 incl images....\n",
      "loading spin 016 90 incl images....\n",
      "loading spin 017 90 incl images....\n",
      "loading spin 018 90 incl images....\n"
     ]
    }
   ],
   "source": [
    "from load_data import *\n",
    "\n",
    "X_data, y_data = load_data()"
   ]
  },
  {
   "cell_type": "markdown",
   "metadata": {},
   "source": [
    "kmeans clustering"
   ]
  },
  {
   "cell_type": "code",
   "execution_count": null,
   "metadata": {},
   "outputs": [],
   "source": [
    "# Load the model\n",
    "yaml_file = open('kmeans_cnn_incl_spin.yaml', 'r')\n",
    "loaded_model_yaml = yaml_file.read()\n",
    "yaml_file.close()\n",
    "loaded_model = keras.models.model_from_yaml(loaded_model_yaml)\n",
    "# load weights into new model\n",
    "loaded_model.load_weights(\"kmeans_cnn_incl_spin_weights.h5\")"
   ]
  },
  {
   "cell_type": "code",
   "execution_count": null,
   "metadata": {},
   "outputs": [],
   "source": [
    "#make prediction using loaded model\n",
    "X = np.zeros((X_data.shape[0], X_data.shape[1], X_data.shape[2], 1))\n",
    "X[:,:,:,0] = X_data\n",
    "ypred = loaded_model.predict_classes(X)"
   ]
  },
  {
   "cell_type": "code",
   "execution_count": null,
   "metadata": {},
   "outputs": [],
   "source": [
    "%load_ext autoreload\n",
    "%autoreload 2\n",
    "import os,sys\n",
    "try:\n",
    "    import lime\n",
    "except:\n",
    "    sys.path.append(os.path.join('..', '..')) # add the current directory\n",
    "    import lime\n",
    "from lime import lime_image"
   ]
  },
  {
   "cell_type": "code",
   "execution_count": null,
   "metadata": {},
   "outputs": [],
   "source": [
    "explainer = lime_image.LimeImageExplainer()"
   ]
  },
  {
   "cell_type": "code",
   "execution_count": null,
   "metadata": {},
   "outputs": [],
   "source": [
    "%%time\n",
    "# Hide color is the color for a superpixel turned OFF. Alternatively, if it is NONE, the superpixel will be replaced by the average of its pixels\n",
    "# x = np.append(X[0], X[0], axis=2)\n",
    "# x = np.append(x, X[0], axis=2)\n",
    "# np.shape(x)\n",
    "explanation = explainer.explain_instance(X[0], loaded_model.predict_classes, top_labels=1, hide_color=0, num_samples=1000)"
   ]
  }
 ],
 "metadata": {
  "kernelspec": {
   "display_name": "Python 3",
   "language": "python",
   "name": "python3"
  },
  "language_info": {
   "codemirror_mode": {
    "name": "ipython",
    "version": 3
   },
   "file_extension": ".py",
   "mimetype": "text/x-python",
   "name": "python",
   "nbconvert_exporter": "python",
   "pygments_lexer": "ipython3",
   "version": "3.7.3"
  }
 },
 "nbformat": 4,
 "nbformat_minor": 2
}
