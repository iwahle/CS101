{
 "cells": [
  {
   "cell_type": "code",
   "execution_count": 1,
   "metadata": {},
   "outputs": [],
   "source": [
    "import numpy as np\n",
    "import matplotlib.pyplot as plt\n",
    "import seaborn as sns\n",
    "sns.set()"
   ]
  },
  {
   "cell_type": "markdown",
   "metadata": {},
   "source": [
    "load data"
   ]
  },
  {
   "cell_type": "code",
   "execution_count": 2,
   "metadata": {},
   "outputs": [],
   "source": [
    "X_data = np.load(\"X_data.npy\")\n",
    "y_data = np.load(\"y_data.npy\")"
   ]
  },
  {
   "cell_type": "code",
   "execution_count": null,
   "metadata": {},
   "outputs": [
    {
     "name": "stderr",
     "output_type": "stream",
     "text": [
      "Using TensorFlow backend.\n"
     ]
    },
    {
     "name": "stdout",
     "output_type": "stream",
     "text": [
      "_________________________________________________________________\n",
      "Layer (type)                 Output Shape              Param #   \n",
      "=================================================================\n",
      "conv2d_1 (Conv2D)            (None, 98, 98, 32)        320       \n",
      "_________________________________________________________________\n",
      "conv2d_2 (Conv2D)            (None, 96, 96, 64)        18496     \n",
      "_________________________________________________________________\n",
      "max_pooling2d_1 (MaxPooling2 (None, 48, 48, 64)        0         \n",
      "_________________________________________________________________\n",
      "dropout_1 (Dropout)          (None, 48, 48, 64)        0         \n",
      "_________________________________________________________________\n",
      "flatten_1 (Flatten)          (None, 147456)            0         \n",
      "_________________________________________________________________\n",
      "dense_1 (Dense)              (None, 128)               18874496  \n",
      "_________________________________________________________________\n",
      "dropout_2 (Dropout)          (None, 128)               0         \n",
      "_________________________________________________________________\n",
      "dense_2 (Dense)              (None, 2)                 258       \n",
      "=================================================================\n",
      "Total params: 18,893,570\n",
      "Trainable params: 18,893,570\n",
      "Non-trainable params: 0\n",
      "_________________________________________________________________\n",
      "Train on 6817 samples, validate on 2273 samples\n",
      "Epoch 1/10\n",
      "6817/6817 [==============================] - 440s 65ms/step - loss: 16206.5862 - mean_squared_error: 16206.5862 - mean_absolute_error: 8.2090 - val_loss: 0.3289 - val_mean_squared_error: 0.3289 - val_mean_absolute_error: 0.4943\n",
      "Epoch 2/10\n",
      "6817/6817 [==============================] - 435s 64ms/step - loss: 0.2887 - mean_squared_error: 0.2887 - mean_absolute_error: 0.4547 - val_loss: 0.2330 - val_mean_squared_error: 0.2330 - val_mean_absolute_error: 0.3995\n",
      "Epoch 3/10\n",
      "6817/6817 [==============================] - 438s 64ms/step - loss: 0.1740 - mean_squared_error: 0.1740 - mean_absolute_error: 0.3408 - val_loss: 0.1274 - val_mean_squared_error: 0.1274 - val_mean_absolute_error: 0.2945\n",
      "Epoch 4/10\n",
      "6817/6817 [==============================] - 460s 68ms/step - loss: 0.1023 - mean_squared_error: 0.1023 - mean_absolute_error: 0.2694 - val_loss: 0.0890 - val_mean_squared_error: 0.0890 - val_mean_absolute_error: 0.2566\n",
      "Epoch 5/10\n",
      "6817/6817 [==============================] - 414s 61ms/step - loss: 0.0849 - mean_squared_error: 0.0849 - mean_absolute_error: 0.2518 - val_loss: 0.0847 - val_mean_squared_error: 0.0847 - val_mean_absolute_error: 0.2523\n",
      "Epoch 6/10\n",
      "6817/6817 [==============================] - 399s 59ms/step - loss: 0.0840 - mean_squared_error: 0.0840 - mean_absolute_error: 0.2510 - val_loss: 0.0846 - val_mean_squared_error: 0.0846 - val_mean_absolute_error: 0.2523\n",
      "Epoch 7/10\n",
      "6817/6817 [==============================] - 480s 70ms/step - loss: 0.0840 - mean_squared_error: 0.0840 - mean_absolute_error: 0.2510 - val_loss: 0.0848 - val_mean_squared_error: 0.0848 - val_mean_absolute_error: 0.2523\n",
      "Epoch 8/10\n",
      "6817/6817 [==============================] - 458s 67ms/step - loss: 0.0840 - mean_squared_error: 0.0840 - mean_absolute_error: 0.2509 - val_loss: 0.0847 - val_mean_squared_error: 0.0847 - val_mean_absolute_error: 0.2523\n",
      "Epoch 9/10\n",
      "6817/6817 [==============================] - 458s 67ms/step - loss: 0.0840 - mean_squared_error: 0.0840 - mean_absolute_error: 0.2509 - val_loss: 0.0847 - val_mean_squared_error: 0.0847 - val_mean_absolute_error: 0.2523\n",
      "Epoch 10/10\n",
      "6817/6817 [==============================] - 440s 65ms/step - loss: 0.0840 - mean_squared_error: 0.0840 - mean_absolute_error: 0.2509 - val_loss: 0.0846 - val_mean_squared_error: 0.0846 - val_mean_absolute_error: 0.2523\n",
      "Test loss: 0.08464686190680791\n",
      "Test accuracy: 0.08464686190680791\n"
     ]
    }
   ],
   "source": [
    "import keras\n",
    "from keras.models import Sequential\n",
    "from keras.layers import Conv2D, Dense, Flatten, MaxPooling2D, Dropout\n",
    "from keras.losses import sparse_categorical_crossentropy\n",
    "from keras.optimizers import SGD\n",
    "import matplotlib.pyplot as plt\n",
    "from sklearn.model_selection import train_test_split\n",
    "import numpy as np\n",
    "\n",
    "X = np.zeros((X_data.shape[0], X_data.shape[1], X_data.shape[2], 1))\n",
    "X[:,:,:,0] = X_data\n",
    "y = y_data.copy().astype(float)\n",
    "y[:,0] = y[:,0] / 100.\n",
    "y[:,1] = y[:,1] / 90.\n",
    "\n",
    "x_train, x_test, y_train, y_test = train_test_split(X, y, test_size=0.25, random_state=42)\n",
    "\n",
    "# model definition\n",
    "model = Sequential()\n",
    "model.add(Conv2D(32, kernel_size=(3, 3),\n",
    "                 activation='relu',\n",
    "                 input_shape=(100,100,1)))\n",
    "model.add(Conv2D(64, (3, 3), activation='relu'))\n",
    "model.add(MaxPooling2D(pool_size=(2, 2)))\n",
    "model.add(Dropout(0.25))\n",
    "model.add(Flatten())\n",
    "model.add(Dense(128, activation='relu'))\n",
    "model.add(Dropout(0.5))\n",
    "model.add(Dense(2))\n",
    "\n",
    "# training\n",
    "model.compile(loss='mse',\n",
    "              optimizer=keras.optimizers.Adadelta(),\n",
    "              metrics=['mse','mae'])\n",
    "\n",
    "model.summary()\n",
    "batch_size = 32\n",
    "epochs = 10\n",
    "model.fit(x_train, y_train,\n",
    "          batch_size=batch_size,\n",
    "          epochs=epochs,\n",
    "          verbose=1,\n",
    "          validation_data=(x_test, y_test))\n",
    "\n",
    "score = model.evaluate(x_test, y_test, verbose=0)\n",
    "print('Test loss:', score[0])\n",
    "print('Test accuracy:', score[1])"
   ]
  }
 ],
 "metadata": {
  "kernelspec": {
   "display_name": "Python [default]",
   "language": "python",
   "name": "python3"
  },
  "language_info": {
   "codemirror_mode": {
    "name": "ipython",
    "version": 3
   },
   "file_extension": ".py",
   "mimetype": "text/x-python",
   "name": "python",
   "nbconvert_exporter": "python",
   "pygments_lexer": "ipython3",
   "version": "3.5.4"
  }
 },
 "nbformat": 4,
 "nbformat_minor": 2
}
