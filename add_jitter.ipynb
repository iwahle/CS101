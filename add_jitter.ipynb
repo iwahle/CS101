{
 "cells": [
  {
   "cell_type": "code",
   "execution_count": 1,
   "metadata": {},
   "outputs": [],
   "source": [
    "import numpy as np"
   ]
  },
  {
   "cell_type": "code",
   "execution_count": 4,
   "metadata": {},
   "outputs": [],
   "source": [
    "X_data = np.load(\"X_fits.npy\")\n",
    "y_data = np.load(\"y_fits.npy\")"
   ]
  },
  {
   "cell_type": "code",
   "execution_count": 5,
   "metadata": {},
   "outputs": [],
   "source": [
    "from scipy.ndimage.interpolation import rotate, shift, zoom\n",
    "\n",
    "def rand_jitter(temp):\n",
    "    copy_of_temp = temp\n",
    "    if np.random.random() > .5:\n",
    "        copy_of_temp[np.random.randint(0,len(temp),1), :] = 0\n",
    "    if np.random.random() > .5:\n",
    "        copy_of_temp[:, np.random.randint(0,len(temp),1)] = 0\n",
    "    if np.random.random() > .5:\n",
    "        copy_of_temp = shift(copy_of_temp, shift=(np.random.randint(-50,50,2)))\n",
    "    if np.random.random() > .5:\n",
    "        copy_of_temp = rotate(copy_of_temp, angle = np.random.randint(-180,180,1), reshape=False)\n",
    "    return copy_of_temp"
   ]
  },
  {
   "cell_type": "code",
   "execution_count": 6,
   "metadata": {},
   "outputs": [],
   "source": [
    "new_X_data = np.zeros((X_data.shape[0], 200, 200))\n",
    "\n",
    "for i in range(len(X_data)):\n",
    "    new_img = np.pad(X_data[i,:,:], ((50,50),(50,50)), 'constant')\n",
    "    new_img = rand_jitter(new_img)\n",
    "    new_X_data[i, :, :] = new_img"
   ]
  },
  {
   "cell_type": "code",
   "execution_count": 7,
   "metadata": {},
   "outputs": [],
   "source": [
    "import matplotlib.pyplot as plt\n",
    "for i in range(1,10):\n",
    "    ax=plt.subplot(3,3,i)\n",
    "    new_int = np.random.randint(0,len(new_X_data))\n",
    "    ax.imshow(new_X_data[new_int,:,:])"
   ]
  },
  {
   "cell_type": "code",
   "execution_count": 8,
   "metadata": {},
   "outputs": [],
   "source": [
    "np.save(\"X_data_fits_jitter.npy\",new_X_data)"
   ]
  },
  {
   "cell_type": "code",
   "execution_count": null,
   "metadata": {},
   "outputs": [],
   "source": []
  }
 ],
 "metadata": {
  "kernelspec": {
   "display_name": "Python 3",
   "language": "python",
   "name": "python3"
  },
  "language_info": {
   "codemirror_mode": {
    "name": "ipython",
    "version": 3
   },
   "file_extension": ".py",
   "mimetype": "text/x-python",
   "name": "python",
   "nbconvert_exporter": "python",
   "pygments_lexer": "ipython3",
   "version": "3.7.4"
  }
 },
 "nbformat": 4,
 "nbformat_minor": 2
}
